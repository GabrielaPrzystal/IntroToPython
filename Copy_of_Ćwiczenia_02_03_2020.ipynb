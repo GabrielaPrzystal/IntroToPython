{
  "nbformat": 4,
  "nbformat_minor": 0,
  "metadata": {
    "colab": {
      "name": "Copy of Ćwiczenia - 02.03.2020.ipynb",
      "provenance": [],
      "collapsed_sections": [],
      "toc_visible": true,
      "authorship_tag": "ABX9TyP5Ea00Dcn+I+FmawVqifQ3",
      "include_colab_link": true
    },
    "kernelspec": {
      "name": "python3",
      "display_name": "Python 3"
    }
  },
  "cells": [
    {
      "cell_type": "markdown",
      "metadata": {
        "id": "view-in-github",
        "colab_type": "text"
      },
      "source": [
        "<a href=\"https://colab.research.google.com/github/GabrielaPrzystal/IntroToPython/blob/Nazwa-jeden/Copy_of_%C4%86wiczenia_02_03_2020.ipynb\" target=\"_parent\"><img src=\"https://colab.research.google.com/assets/colab-badge.svg\" alt=\"Open In Colab\"/></a>"
      ]
    },
    {
      "cell_type": "markdown",
      "metadata": {
        "id": "WEaSJUQofAXd",
        "colab_type": "text"
      },
      "source": [
        "# Sieci"
      ]
    },
    {
      "cell_type": "markdown",
      "metadata": {
        "id": "3loCEs3DfIXP",
        "colab_type": "text"
      },
      "source": [
        "Ćwiczenia z podstawowych operacji arytmetycznych"
      ]
    },
    {
      "cell_type": "code",
      "metadata": {
        "id": "KNUI6fhcgRZf",
        "colab_type": "code",
        "colab": {}
      },
      "source": [
        "x=10\n",
        "x= x+7"
      ],
      "execution_count": 0,
      "outputs": []
    },
    {
      "cell_type": "code",
      "metadata": {
        "id": "_WTQdaE6gWLO",
        "colab_type": "code",
        "outputId": "1a58ef71-b6e4-4a8f-9949-dedfb0367824",
        "colab": {
          "base_uri": "https://localhost:8080/",
          "height": 34
        }
      },
      "source": [
        "print(x)"
      ],
      "execution_count": 4,
      "outputs": [
        {
          "output_type": "stream",
          "text": [
            "17\n"
          ],
          "name": "stdout"
        }
      ]
    },
    {
      "cell_type": "code",
      "metadata": {
        "id": "wlJ2J9zCg7bo",
        "colab_type": "code",
        "colab": {}
      },
      "source": [
        "y=3\n",
        "y= y-1"
      ],
      "execution_count": 0,
      "outputs": []
    },
    {
      "cell_type": "code",
      "metadata": {
        "id": "zrlelo2Lg_nk",
        "colab_type": "code",
        "outputId": "26032398-dcfb-4a04-df54-0c466967d270",
        "colab": {
          "base_uri": "https://localhost:8080/",
          "height": 34
        }
      },
      "source": [
        "print(y)"
      ],
      "execution_count": 6,
      "outputs": [
        {
          "output_type": "stream",
          "text": [
            "2\n"
          ],
          "name": "stdout"
        }
      ]
    },
    {
      "cell_type": "code",
      "metadata": {
        "id": "0CjTjwahhDtU",
        "colab_type": "code",
        "colab": {}
      },
      "source": [
        "z=10\n",
        "z=z*3"
      ],
      "execution_count": 0,
      "outputs": []
    },
    {
      "cell_type": "code",
      "metadata": {
        "id": "_eoI6JmMhS7y",
        "colab_type": "code",
        "outputId": "c8d1196f-354d-4c3c-8485-2c77cfeaa148",
        "colab": {
          "base_uri": "https://localhost:8080/",
          "height": 34
        }
      },
      "source": [
        "print(z)"
      ],
      "execution_count": 0,
      "outputs": [
        {
          "output_type": "stream",
          "text": [
            "30\n"
          ],
          "name": "stdout"
        }
      ]
    },
    {
      "cell_type": "code",
      "metadata": {
        "id": "bT_G5zADhWSA",
        "colab_type": "code",
        "outputId": "7415f927-30b8-445b-a5dc-2b2e7988b793",
        "colab": {
          "base_uri": "https://localhost:8080/",
          "height": 34
        }
      },
      "source": [
        "sale = \"3.120\"\n",
        "print (sale*3)"
      ],
      "execution_count": 0,
      "outputs": [
        {
          "output_type": "stream",
          "text": [
            "3.1203.1203.120\n"
          ],
          "name": "stdout"
        }
      ]
    },
    {
      "cell_type": "markdown",
      "metadata": {
        "id": "zIkTLe3fh3SB",
        "colab_type": "text"
      },
      "source": [
        "Możemy sobie pomnożyć, dodać, podzielić dwa ciągi znaków."
      ]
    },
    {
      "cell_type": "code",
      "metadata": {
        "id": "SHYzy95liYdG",
        "colab_type": "code",
        "outputId": "1fc18ae5-ae8b-4608-f4d3-dcad4e652923",
        "colab": {
          "base_uri": "https://localhost:8080/",
          "height": 129
        }
      },
      "source": [
        "1sala= 2\n",
        "print(1sala*8)"
      ],
      "execution_count": 0,
      "outputs": [
        {
          "output_type": "error",
          "ename": "SyntaxError",
          "evalue": "ignored",
          "traceback": [
            "\u001b[0;36m  File \u001b[0;32m\"<ipython-input-14-e95284c777c5>\"\u001b[0;36m, line \u001b[0;32m1\u001b[0m\n\u001b[0;31m    1sala= 2\u001b[0m\n\u001b[0m        ^\u001b[0m\n\u001b[0;31mSyntaxError\u001b[0m\u001b[0;31m:\u001b[0m invalid syntax\n"
          ]
        }
      ]
    },
    {
      "cell_type": "code",
      "metadata": {
        "id": "mXr8IFMdimkj",
        "colab_type": "code",
        "outputId": "c9e06c34-9ae1-46cf-f545-47da1b9481b6",
        "colab": {
          "base_uri": "https://localhost:8080/",
          "height": 163
        }
      },
      "source": [
        "print(Sale*2)"
      ],
      "execution_count": 0,
      "outputs": [
        {
          "output_type": "error",
          "ename": "NameError",
          "evalue": "ignored",
          "traceback": [
            "\u001b[0;31m---------------------------------------------------------------------------\u001b[0m",
            "\u001b[0;31mNameError\u001b[0m                                 Traceback (most recent call last)",
            "\u001b[0;32m<ipython-input-15-1371ef06dbe8>\u001b[0m in \u001b[0;36m<module>\u001b[0;34m()\u001b[0m\n\u001b[0;32m----> 1\u001b[0;31m \u001b[0mprint\u001b[0m\u001b[0;34m(\u001b[0m\u001b[0mSale\u001b[0m\u001b[0;34m*\u001b[0m\u001b[0;36m2\u001b[0m\u001b[0;34m)\u001b[0m\u001b[0;34m\u001b[0m\u001b[0;34m\u001b[0m\u001b[0m\n\u001b[0m",
            "\u001b[0;31mNameError\u001b[0m: name 'Sale' is not defined"
          ]
        }
      ]
    },
    {
      "cell_type": "markdown",
      "metadata": {
        "id": "lpvnJKXyjp6C",
        "colab_type": "text"
      },
      "source": [
        "NAZWY ZMIENNYCH\n",
        "‒\tMuszą zaczynać się od litery lub podkreślenia\n",
        "‒\tMogą zawierać litery, cyfry, podkreślenia (bez polskich znaków)\n",
        "‒\tWielkość znaków ma znaczenie\n",
        "‒\tPewne słowa są zarezerwowane np. do funkcji i metod -> tych zarezerwowanych słów nie stosuje się do nazywania zmiennych\n",
        "‒\tNazwy zmiennych mają nieść znaczenie!\n"
      ]
    },
    {
      "cell_type": "code",
      "metadata": {
        "id": "OtDapMKZlCCA",
        "colab_type": "code",
        "outputId": "bcfa64b6-3819-4160-a705-2b5d288eb00d",
        "colab": {
          "base_uri": "https://localhost:8080/",
          "height": 34
        }
      },
      "source": [
        "type(3)"
      ],
      "execution_count": 0,
      "outputs": [
        {
          "output_type": "execute_result",
          "data": {
            "text/plain": [
              "int"
            ]
          },
          "metadata": {
            "tags": []
          },
          "execution_count": 16
        }
      ]
    },
    {
      "cell_type": "code",
      "metadata": {
        "id": "qmpnMtlYlFr4",
        "colab_type": "code",
        "outputId": "1d2cf5b2-29f6-401c-9df7-fe9014392d33",
        "colab": {
          "base_uri": "https://localhost:8080/",
          "height": 34
        }
      },
      "source": [
        "type(7.5)"
      ],
      "execution_count": 0,
      "outputs": [
        {
          "output_type": "execute_result",
          "data": {
            "text/plain": [
              "float"
            ]
          },
          "metadata": {
            "tags": []
          },
          "execution_count": 17
        }
      ]
    },
    {
      "cell_type": "code",
      "metadata": {
        "id": "vy6V7HNllJEn",
        "colab_type": "code",
        "outputId": "04dfb64c-c7d6-4539-f731-80c8f02af185",
        "colab": {
          "base_uri": "https://localhost:8080/",
          "height": 34
        }
      },
      "source": [
        "type(\"Pizza jest supi\")"
      ],
      "execution_count": 0,
      "outputs": [
        {
          "output_type": "execute_result",
          "data": {
            "text/plain": [
              "str"
            ]
          },
          "metadata": {
            "tags": []
          },
          "execution_count": 18
        }
      ]
    },
    {
      "cell_type": "code",
      "metadata": {
        "id": "-n8l95M3lPo1",
        "colab_type": "code",
        "outputId": "394088c0-cad0-42fa-f188-7640bc45ef50",
        "colab": {
          "base_uri": "https://localhost:8080/",
          "height": 34
        }
      },
      "source": [
        "obecnosc1 = True\n",
        "type(obecnosc1)"
      ],
      "execution_count": 0,
      "outputs": [
        {
          "output_type": "execute_result",
          "data": {
            "text/plain": [
              "bool"
            ]
          },
          "metadata": {
            "tags": []
          },
          "execution_count": 19
        }
      ]
    },
    {
      "cell_type": "markdown",
      "metadata": {
        "id": "SPkOUBpmllXV",
        "colab_type": "text"
      },
      "source": [
        "DUŻA LITERA!"
      ]
    },
    {
      "cell_type": "code",
      "metadata": {
        "id": "FuG_90XIlkjI",
        "colab_type": "code",
        "outputId": "bad16de9-462e-43cd-88b7-fd2cd14936b5",
        "colab": {
          "base_uri": "https://localhost:8080/",
          "height": 34
        }
      },
      "source": [
        "3 == 3"
      ],
      "execution_count": 0,
      "outputs": [
        {
          "output_type": "execute_result",
          "data": {
            "text/plain": [
              "True"
            ]
          },
          "metadata": {
            "tags": []
          },
          "execution_count": 20
        }
      ]
    },
    {
      "cell_type": "code",
      "metadata": {
        "id": "R4EOq6O-l9N1",
        "colab_type": "code",
        "outputId": "0cbef53e-4b19-4781-98c9-531f3b36d9ca",
        "colab": {
          "base_uri": "https://localhost:8080/",
          "height": 34
        }
      },
      "source": [
        "3 == 2 "
      ],
      "execution_count": 0,
      "outputs": [
        {
          "output_type": "execute_result",
          "data": {
            "text/plain": [
              "False"
            ]
          },
          "metadata": {
            "tags": []
          },
          "execution_count": 21
        }
      ]
    },
    {
      "cell_type": "code",
      "metadata": {
        "id": "5PqZOLgml_63",
        "colab_type": "code",
        "outputId": "4fb1b719-bfa9-465e-ed38-1d3163da5c8b",
        "colab": {
          "base_uri": "https://localhost:8080/",
          "height": 34
        }
      },
      "source": [
        "3 !=3"
      ],
      "execution_count": 0,
      "outputs": [
        {
          "output_type": "execute_result",
          "data": {
            "text/plain": [
              "False"
            ]
          },
          "metadata": {
            "tags": []
          },
          "execution_count": 23
        }
      ]
    },
    {
      "cell_type": "code",
      "metadata": {
        "id": "stPyU-qGmEhv",
        "colab_type": "code",
        "colab": {
          "base_uri": "https://localhost:8080/",
          "height": 34
        },
        "outputId": "009e42c0-870b-42c5-ddb4-e1477af835c6"
      },
      "source": [
        "\"pizza\" == \"kebab\""
      ],
      "execution_count": 2,
      "outputs": [
        {
          "output_type": "execute_result",
          "data": {
            "text/plain": [
              "False"
            ]
          },
          "metadata": {
            "tags": []
          },
          "execution_count": 2
        }
      ]
    },
    {
      "cell_type": "markdown",
      "metadata": {
        "id": "dWUD2OKrnWcl",
        "colab_type": "text"
      },
      "source": [
        "LEN Return the length (the number of items) of an object. The argument may be a sequence (such as a string, bytes, tuple, list, or range) or a collection (such as a dictionary, set, or frozen set)."
      ]
    },
    {
      "cell_type": "code",
      "metadata": {
        "id": "Fw-NToZ3nXUG",
        "colab_type": "code",
        "colab": {
          "base_uri": "https://localhost:8080/",
          "height": 34
        },
        "outputId": "220a180e-fa6e-4c28-8e08-bb496ef9fe23"
      },
      "source": [
        "len(\"sieci\")"
      ],
      "execution_count": 8,
      "outputs": [
        {
          "output_type": "execute_result",
          "data": {
            "text/plain": [
              "5"
            ]
          },
          "metadata": {
            "tags": []
          },
          "execution_count": 8
        }
      ]
    },
    {
      "cell_type": "code",
      "metadata": {
        "id": "3HfHu3Gpnf7y",
        "colab_type": "code",
        "colab": {
          "base_uri": "https://localhost:8080/",
          "height": 34
        },
        "outputId": "e931edc7-d629-4739-ba84-8eeab638e194"
      },
      "source": [
        "len(\"sieci \")"
      ],
      "execution_count": 9,
      "outputs": [
        {
          "output_type": "execute_result",
          "data": {
            "text/plain": [
              "6"
            ]
          },
          "metadata": {
            "tags": []
          },
          "execution_count": 9
        }
      ]
    },
    {
      "cell_type": "code",
      "metadata": {
        "id": "KdKTxAs-nm3Y",
        "colab_type": "code",
        "colab": {
          "base_uri": "https://localhost:8080/",
          "height": 34
        },
        "outputId": "49845aff-cf9b-47e4-a14c-8cdf7f2ef9ab"
      },
      "source": [
        "#Tworzę listę org - \n",
        "org = [\"Pizza\",\"Jedzonko\",\"Lubię bardzo.\"]\n",
        "len(org)"
      ],
      "execution_count": 10,
      "outputs": [
        {
          "output_type": "execute_result",
          "data": {
            "text/plain": [
              "3"
            ]
          },
          "metadata": {
            "tags": []
          },
          "execution_count": 10
        }
      ]
    },
    {
      "cell_type": "markdown",
      "metadata": {
        "id": "rRdfYU-0oOka",
        "colab_type": "text"
      },
      "source": [
        "len podaje także liczbę elementów np. w liście (nawias kwadratowy)"
      ]
    },
    {
      "cell_type": "code",
      "metadata": {
        "id": "EACcc9qYoKf2",
        "colab_type": "code",
        "colab": {}
      },
      "source": [
        ""
      ],
      "execution_count": 0,
      "outputs": []
    }
  ]
}